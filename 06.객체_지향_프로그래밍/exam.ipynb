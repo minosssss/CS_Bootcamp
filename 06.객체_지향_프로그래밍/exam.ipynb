{
 "cells": [
  {
   "cell_type": "code",
   "execution_count": 1,
   "metadata": {
    "collapsed": true
   },
   "outputs": [
    {
     "data": {
      "text/plain": "(<Cell 'Sheet1'.A1>,\n <Cell 'Sheet1'.B1>,\n <Cell 'Sheet1'.C1>,\n <Cell 'Sheet1'.D1>)"
     },
     "execution_count": 1,
     "metadata": {},
     "output_type": "execute_result"
    }
   ],
   "source": [
    "import openpyxl\n",
    "from openpyxl import *\n",
    "import os\n",
    "\n",
    "os.getcwd()\n",
    "wb = load_workbook('C:\\\\Users\\\\minO\\\\Desktop\\\\pythonProject\\\\cs_bootcamp\\\\06.객체_지향_프로그래밍\\\\exam.xlsx')\n",
    "wb.sheetnames\n",
    "\n",
    "ws = wb.active\n",
    "g = ws.rows\n",
    "\n",
    "cells = next(g)\n",
    "cells"
   ]
  },
  {
   "cell_type": "code",
   "execution_count": 2,
   "outputs": [
    {
     "data": {
      "text/plain": "['name', 'math', 'literature', 'science']"
     },
     "execution_count": 2,
     "metadata": {},
     "output_type": "execute_result"
    }
   ],
   "source": [
    "keys = []\n",
    "for cell in cells:\n",
    "    keys.append(cell.value)\n",
    "keys"
   ],
   "metadata": {
    "collapsed": false,
    "pycharm": {
     "name": "#%%\n"
    }
   }
  },
  {
   "cell_type": "code",
   "execution_count": 3,
   "outputs": [
    {
     "data": {
      "text/plain": "[{'name': 'greg', 'math': 95, 'literature': 65, 'science': 75},\n {'name': 'john', 'math': 25, 'literature': 30, 'science': 55},\n {'name': 'yang', 'math': 50, 'literature': 45, 'science': 40},\n {'name': 'timothy', 'math': 15, 'literature': 65, 'science': 90},\n {'name': 'melisa', 'math': 100, 'literature': 100, 'science': 100},\n {'name': 'thor', 'math': 10, 'literature': 15, 'science': 20},\n {'name': 'elen', 'math': 25, 'literature': 50, 'science': 100},\n {'name': 'mark', 'math': 80, 'literature': 75, 'science': 80},\n {'name': 'steve', 'math': 95, 'literature': 100, 'science': 95},\n {'name': 'anna', 'math': 20, 'literature': 20, 'science': 20}]"
     },
     "execution_count": 3,
     "metadata": {},
     "output_type": "execute_result"
    }
   ],
   "source": [
    "student_data = []\n",
    "for row in g:\n",
    "    dic = {k : c.value for k, c in zip(keys, row)}\n",
    "    student_data.append(dic)\n",
    "\n",
    "student_data\n"
   ],
   "metadata": {
    "collapsed": false,
    "pycharm": {
     "name": "#%%\n"
    }
   }
  },
  {
   "cell_type": "code",
   "execution_count": 21,
   "outputs": [
    {
     "name": "stdout",
     "output_type": "stream",
     "text": [
      "성적은 평균 이상이지만, 학생들이 실력 차이가 크다. 주의 요망!\n"
     ]
    },
    {
     "data": {
      "text/plain": "'평균: 51.5, 분산: 1240.2, 표준편차: 35.2'"
     },
     "execution_count": 21,
     "metadata": {},
     "output_type": "execute_result"
    }
   ],
   "source": [
    "import math\n",
    "\n",
    "raw_data = {}\n",
    "wb = load_workbook('C:\\\\Users\\\\minO\\\\Desktop\\\\pythonProject\\\\cs_bootcamp\\\\06.객체_지향_프로그래밍\\\\class_2_3.xlsx')\n",
    "ws = wb.active\n",
    "g = ws.rows\n",
    "for name, score in g:\n",
    "    raw_data[name.value] = score.value\n",
    "\n",
    "scores = list(raw_data.values())\n",
    "\n",
    "s = 0\n",
    "\n",
    "for score in scores:\n",
    "    s += score\n",
    "\n",
    "avrg = round(s/len(scores),1)\n",
    "\n",
    "s = 0\n",
    "\n",
    "for score in scores:\n",
    "    s += (score - avrg) ** 2\n",
    "\n",
    "variance = round(s/len(scores),1)\n",
    "\n",
    "std_dev = round(math.sqrt(variance),1)\n",
    "\n",
    "f\"평균: {avrg}, 분산: {variance}, 표준편차: {std_dev}\"\n",
    "\n",
    "if avrg < 50 and std_dev > 20:\n",
    "    print(\"성적이 너무 저조하고 학생들의 실력 차이가 너무 크다.\")\n",
    "elif avrg > 50 and std_dev > 20:\n",
    "    print(\"성적은 평균 이상이지만, 학생들이 실력 차이가 크다. 주의 요망!\")\n",
    "elif avrg < 50 and std_dev < 20:\n",
    "    print(\"학생들의 실력 차이는 크지 않지만 성적이 너무 저조하다. 주의 요망!\")\n",
    "elif avrg > 50 and std_dev < 20:\n",
    "    print(\"성적이 평균 이상이고 학생들의 실력 차이도 크지 않다.\")\n",
    "\n",
    "f\"평균: {avrg}, 분산: {variance}, 표준편차: {std_dev}\""
   ],
   "metadata": {
    "collapsed": false,
    "pycharm": {
     "name": "#%%\n"
    }
   }
  },
  {
   "cell_type": "code",
   "execution_count": null,
   "outputs": [],
   "source": [],
   "metadata": {
    "collapsed": false,
    "pycharm": {
     "name": "#%%\n"
    }
   }
  }
 ],
 "metadata": {
  "kernelspec": {
   "display_name": "Python 3",
   "language": "python",
   "name": "python3"
  },
  "language_info": {
   "codemirror_mode": {
    "name": "ipython",
    "version": 2
   },
   "file_extension": ".py",
   "mimetype": "text/x-python",
   "name": "python",
   "nbconvert_exporter": "python",
   "pygments_lexer": "ipython2",
   "version": "2.7.6"
  }
 },
 "nbformat": 4,
 "nbformat_minor": 0
}